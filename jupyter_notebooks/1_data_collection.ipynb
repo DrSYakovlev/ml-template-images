{
 "cells": [
  {
   "cell_type": "markdown",
   "metadata": {},
   "source": [
    "# Data collection notebook"
   ]
  },
  {
   "cell_type": "markdown",
   "metadata": {},
   "source": [
    "### Objectives\n",
    "* Collect data from [Kaggle](https://www.kaggle.com/)\n",
    "* Inspect the dataset and save it in an appropriate folder"
   ]
  },
  {
   "cell_type": "markdown",
   "metadata": {},
   "source": [
    "### Inputs\n",
    "JSON file (Kaggle authentication token)\n"
   ]
  },
  {
   "cell_type": "markdown",
   "metadata": {},
   "source": [
    "### Outputs\n",
    "Fetch dataset and store it in an appropriate inpit folder"
   ]
  },
  {
   "cell_type": "markdown",
   "metadata": {},
   "source": [
    "### Notes\n",
    "Do **not forget** to add kaggle.json to .gitignore"
   ]
  },
  {
   "cell_type": "markdown",
   "metadata": {},
   "source": [
    "## Create directory for input data"
   ]
  },
  {
   "cell_type": "markdown",
   "metadata": {},
   "source": [
    "#### Check current directory"
   ]
  },
  {
   "cell_type": "code",
   "execution_count": 8,
   "metadata": {},
   "outputs": [
    {
     "name": "stdout",
     "output_type": "stream",
     "text": [
      "Your current working directory is: /workspaces/ml-template-tabular/jupyter_notebooks/\n"
     ]
    }
   ],
   "source": [
    "import os\n",
    "current_dir = '/workspaces/ml-template-tabular/jupyter_notebooks/' # The directory with the current ipynb. This automatically becomes our pwd when we open it.\n",
    "print(f\"Your current working directory is: {current_dir}\")"
   ]
  },
  {
   "cell_type": "markdown",
   "metadata": {},
   "source": [
    "#### Go to parent project directory"
   ]
  },
  {
   "cell_type": "code",
   "execution_count": 9,
   "metadata": {},
   "outputs": [
    {
     "name": "stdout",
     "output_type": "stream",
     "text": [
      "You set your new working directory:\n",
      "/workspaces/ml-template-tabular\n"
     ]
    }
   ],
   "source": [
    "os.chdir(os.path.join(current_dir, os.pardir))\n",
    "print(f\"You set your new working directory:\")\n",
    "!pwd"
   ]
  },
  {
   "cell_type": "markdown",
   "metadata": {},
   "source": [
    "## Fetch data from [Kaggle](https://www.kaggle.com/)"
   ]
  },
  {
   "cell_type": "markdown",
   "metadata": {},
   "source": [
    "### Install Kaggle"
   ]
  },
  {
   "cell_type": "code",
   "execution_count": null,
   "metadata": {},
   "outputs": [],
   "source": [
    "%pip install kaggle # symbol % converts the line into the `bash` command\n",
    "%pip show kaggle # check if Kaggle is installed and which version is current"
   ]
  },
  {
   "cell_type": "markdown",
   "metadata": {},
   "source": [
    "### Data collection"
   ]
  },
  {
   "cell_type": "markdown",
   "metadata": {},
   "source": [
    "Add here a general information on the dataset, screenshots (see markdown syntax reference in the README file on how to include image) where appropriate. At this point you will need your kaggle authentication token (kaggle.json) file."
   ]
  },
  {
   "cell_type": "code",
   "execution_count": null,
   "metadata": {},
   "outputs": [],
   "source": [
    "# import os\n",
    "# os.environ['KAGGLE_CONFIG_DIR'] = os.getcwd()\n",
    "# ! chmod 600 kaggle.json\n",
    "# to recognise the token in the session"
   ]
  },
  {
   "cell_type": "markdown",
   "metadata": {},
   "source": [
    "Get the dataset path from the Kaggle url: **check what is after https://www.kaggle.com/ .**\n",
    "Define the Kaggle dataset, and destination folder and download it."
   ]
  },
  {
   "cell_type": "code",
   "execution_count": null,
   "metadata": {},
   "outputs": [],
   "source": [
    "# KaggleDatasetPath = \"datasets/ismetsemedov/transactions\" # Path is given as an example\n",
    "# DestinationFolder = \"inputs/datasets/raw\"   \n",
    "# ! kaggle datasets download -d {KaggleDatasetPath} -p {DestinationFolder}"
   ]
  },
  {
   "cell_type": "markdown",
   "metadata": {},
   "source": [
    "In this particular case, the dataset was simply downloaded from the [link](https://www.kaggle.com/code/jesusgraterol/bitcoin-blockchain-historical-data/input). I manually created folder `'/workspaces/ml-template-tabular/inputs/dataset/raw'` to store raw data. The dataset (demonstration purpose) represents Bitcoin hystorical data:"
   ]
  },
  {
   "cell_type": "markdown",
   "metadata": {},
   "source": [
    "![dataset](../assets/img/dataset.jpg)"
   ]
  },
  {
   "cell_type": "markdown",
   "metadata": {},
   "source": [
    "### Unzip downloaded file"
   ]
  },
  {
   "cell_type": "markdown",
   "metadata": {},
   "source": [
    "#### Set folder variable"
   ]
  },
  {
   "cell_type": "code",
   "execution_count": 13,
   "metadata": {},
   "outputs": [],
   "source": [
    "destination_folder = './inputs/dataset/raw/'"
   ]
  },
  {
   "cell_type": "code",
   "execution_count": 14,
   "metadata": {},
   "outputs": [
    {
     "name": "stdout",
     "output_type": "stream",
     "text": [
      "Archive:  ./inputs/dataset/raw//dataset.csv.zip\n",
      "  inflating: ./inputs/dataset/raw/dataset.csv  \n"
     ]
    }
   ],
   "source": [
    "! unzip {destination_folder}/*.zip -d {destination_folder} \\\n",
    "  && rm {destination_folder}/*.zip"
   ]
  },
  {
   "cell_type": "markdown",
   "metadata": {},
   "source": [
    "### Inspect data"
   ]
  },
  {
   "cell_type": "code",
   "execution_count": 4,
   "metadata": {},
   "outputs": [
    {
     "data": {
      "text/html": [
       "<div>\n",
       "<style scoped>\n",
       "    .dataframe tbody tr th:only-of-type {\n",
       "        vertical-align: middle;\n",
       "    }\n",
       "\n",
       "    .dataframe tbody tr th {\n",
       "        vertical-align: top;\n",
       "    }\n",
       "\n",
       "    .dataframe thead th {\n",
       "        text-align: right;\n",
       "    }\n",
       "</style>\n",
       "<table border=\"1\" class=\"dataframe\">\n",
       "  <thead>\n",
       "    <tr style=\"text-align: right;\">\n",
       "      <th></th>\n",
       "      <th>height</th>\n",
       "      <th>timestamp</th>\n",
       "      <th>size</th>\n",
       "      <th>tx_count</th>\n",
       "      <th>difficulty</th>\n",
       "      <th>median_fee_rate</th>\n",
       "      <th>avg_fee_rate</th>\n",
       "      <th>total_fees</th>\n",
       "      <th>fee_range_min</th>\n",
       "      <th>fee_range_max</th>\n",
       "      <th>input_count</th>\n",
       "      <th>output_count</th>\n",
       "      <th>output_amount</th>\n",
       "      <th>datetime</th>\n",
       "    </tr>\n",
       "  </thead>\n",
       "  <tbody>\n",
       "    <tr>\n",
       "      <th>800209</th>\n",
       "      <td>800210</td>\n",
       "      <td>1690287219000</td>\n",
       "      <td>1833624</td>\n",
       "      <td>4617</td>\n",
       "      <td>5.391117e+13</td>\n",
       "      <td>6.098668</td>\n",
       "      <td>10</td>\n",
       "      <td>10798418</td>\n",
       "      <td>5.774597</td>\n",
       "      <td>627.943485</td>\n",
       "      <td>7378</td>\n",
       "      <td>8118</td>\n",
       "      <td>361865784734</td>\n",
       "      <td>2023-07-25 12:13:39</td>\n",
       "    </tr>\n",
       "    <tr>\n",
       "      <th>800210</th>\n",
       "      <td>800211</td>\n",
       "      <td>1690288028000</td>\n",
       "      <td>1551677</td>\n",
       "      <td>2498</td>\n",
       "      <td>5.391117e+13</td>\n",
       "      <td>8.316228</td>\n",
       "      <td>13</td>\n",
       "      <td>13154779</td>\n",
       "      <td>7.000000</td>\n",
       "      <td>1033.057851</td>\n",
       "      <td>7937</td>\n",
       "      <td>6607</td>\n",
       "      <td>722603107147</td>\n",
       "      <td>2023-07-25 12:27:08</td>\n",
       "    </tr>\n",
       "    <tr>\n",
       "      <th>800211</th>\n",
       "      <td>800212</td>\n",
       "      <td>1690289642000</td>\n",
       "      <td>1579431</td>\n",
       "      <td>3801</td>\n",
       "      <td>5.391117e+13</td>\n",
       "      <td>12.954254</td>\n",
       "      <td>21</td>\n",
       "      <td>21780968</td>\n",
       "      <td>9.500000</td>\n",
       "      <td>673.035211</td>\n",
       "      <td>6964</td>\n",
       "      <td>11297</td>\n",
       "      <td>1327695528497</td>\n",
       "      <td>2023-07-25 12:54:02</td>\n",
       "    </tr>\n",
       "    <tr>\n",
       "      <th>800212</th>\n",
       "      <td>800213</td>\n",
       "      <td>1690290103000</td>\n",
       "      <td>1580228</td>\n",
       "      <td>3162</td>\n",
       "      <td>5.391117e+13</td>\n",
       "      <td>8.225113</td>\n",
       "      <td>14</td>\n",
       "      <td>14728273</td>\n",
       "      <td>7.027581</td>\n",
       "      <td>671.291714</td>\n",
       "      <td>7037</td>\n",
       "      <td>10083</td>\n",
       "      <td>640226583272</td>\n",
       "      <td>2023-07-25 13:01:43</td>\n",
       "    </tr>\n",
       "    <tr>\n",
       "      <th>800213</th>\n",
       "      <td>800214</td>\n",
       "      <td>1690290559000</td>\n",
       "      <td>1385714</td>\n",
       "      <td>2114</td>\n",
       "      <td>5.391117e+13</td>\n",
       "      <td>18.115942</td>\n",
       "      <td>17</td>\n",
       "      <td>17859404</td>\n",
       "      <td>7.050000</td>\n",
       "      <td>336.653504</td>\n",
       "      <td>4351</td>\n",
       "      <td>5102</td>\n",
       "      <td>429616498351</td>\n",
       "      <td>2023-07-25 13:09:19</td>\n",
       "    </tr>\n",
       "  </tbody>\n",
       "</table>\n",
       "</div>"
      ],
      "text/plain": [
       "        height      timestamp     size  tx_count    difficulty  \\\n",
       "800209  800210  1690287219000  1833624      4617  5.391117e+13   \n",
       "800210  800211  1690288028000  1551677      2498  5.391117e+13   \n",
       "800211  800212  1690289642000  1579431      3801  5.391117e+13   \n",
       "800212  800213  1690290103000  1580228      3162  5.391117e+13   \n",
       "800213  800214  1690290559000  1385714      2114  5.391117e+13   \n",
       "\n",
       "        median_fee_rate  avg_fee_rate  total_fees  fee_range_min  \\\n",
       "800209         6.098668            10    10798418       5.774597   \n",
       "800210         8.316228            13    13154779       7.000000   \n",
       "800211        12.954254            21    21780968       9.500000   \n",
       "800212         8.225113            14    14728273       7.027581   \n",
       "800213        18.115942            17    17859404       7.050000   \n",
       "\n",
       "        fee_range_max  input_count  output_count  output_amount  \\\n",
       "800209     627.943485         7378          8118   361865784734   \n",
       "800210    1033.057851         7937          6607   722603107147   \n",
       "800211     673.035211         6964         11297  1327695528497   \n",
       "800212     671.291714         7037         10083   640226583272   \n",
       "800213     336.653504         4351          5102   429616498351   \n",
       "\n",
       "                  datetime  \n",
       "800209 2023-07-25 12:13:39  \n",
       "800210 2023-07-25 12:27:08  \n",
       "800211 2023-07-25 12:54:02  \n",
       "800212 2023-07-25 13:01:43  \n",
       "800213 2023-07-25 13:09:19  "
      ]
     },
     "execution_count": 4,
     "metadata": {},
     "output_type": "execute_result"
    }
   ],
   "source": [
    "import pandas as pd\n",
    "hist_data = pd.read_csv(f\"/workspaces/ml-template-tabular/inputs/dataset/raw/dataset.csv\")\n",
    "# Create the datetime column to simplify the displaying of dates\n",
    "hist_data[\"datetime\"] = pd.to_datetime(hist_data[\"timestamp\"], unit=\"ms\")\n",
    "hist_data.tail()"
   ]
  },
  {
   "cell_type": "code",
   "execution_count": 5,
   "metadata": {},
   "outputs": [
    {
     "data": {
      "text/html": [
       "<div>\n",
       "<style scoped>\n",
       "    .dataframe tbody tr th:only-of-type {\n",
       "        vertical-align: middle;\n",
       "    }\n",
       "\n",
       "    .dataframe tbody tr th {\n",
       "        vertical-align: top;\n",
       "    }\n",
       "\n",
       "    .dataframe thead th {\n",
       "        text-align: right;\n",
       "    }\n",
       "</style>\n",
       "<table border=\"1\" class=\"dataframe\">\n",
       "  <thead>\n",
       "    <tr style=\"text-align: right;\">\n",
       "      <th></th>\n",
       "      <th>height</th>\n",
       "      <th>timestamp</th>\n",
       "      <th>size</th>\n",
       "      <th>tx_count</th>\n",
       "      <th>difficulty</th>\n",
       "      <th>median_fee_rate</th>\n",
       "      <th>avg_fee_rate</th>\n",
       "      <th>total_fees</th>\n",
       "      <th>fee_range_min</th>\n",
       "      <th>fee_range_max</th>\n",
       "      <th>input_count</th>\n",
       "      <th>output_count</th>\n",
       "      <th>output_amount</th>\n",
       "      <th>datetime</th>\n",
       "    </tr>\n",
       "  </thead>\n",
       "  <tbody>\n",
       "    <tr>\n",
       "      <th>count</th>\n",
       "      <td>800214.000000</td>\n",
       "      <td>8.002140e+05</td>\n",
       "      <td>8.002140e+05</td>\n",
       "      <td>800214.000000</td>\n",
       "      <td>8.002140e+05</td>\n",
       "      <td>8.002140e+05</td>\n",
       "      <td>8.002140e+05</td>\n",
       "      <td>8.002140e+05</td>\n",
       "      <td>800214.000000</td>\n",
       "      <td>8.002140e+05</td>\n",
       "      <td>800214.000000</td>\n",
       "      <td>800214.000000</td>\n",
       "      <td>8.002140e+05</td>\n",
       "      <td>800214</td>\n",
       "    </tr>\n",
       "    <tr>\n",
       "      <th>mean</th>\n",
       "      <td>400107.500000</td>\n",
       "      <td>1.460066e+12</td>\n",
       "      <td>6.231263e+05</td>\n",
       "      <td>1086.861858</td>\n",
       "      <td>7.198567e+12</td>\n",
       "      <td>5.525847e+01</td>\n",
       "      <td>9.379183e+01</td>\n",
       "      <td>3.359235e+07</td>\n",
       "      <td>9.384931</td>\n",
       "      <td>2.160209e+03</td>\n",
       "      <td>2847.751623</td>\n",
       "      <td>3053.467912</td>\n",
       "      <td>1.047352e+12</td>\n",
       "      <td>2016-04-07 21:59:54.793928960</td>\n",
       "    </tr>\n",
       "    <tr>\n",
       "      <th>min</th>\n",
       "      <td>1.000000</td>\n",
       "      <td>1.231470e+12</td>\n",
       "      <td>1.760000e+02</td>\n",
       "      <td>1.000000</td>\n",
       "      <td>1.000000e+00</td>\n",
       "      <td>0.000000e+00</td>\n",
       "      <td>0.000000e+00</td>\n",
       "      <td>0.000000e+00</td>\n",
       "      <td>0.000000</td>\n",
       "      <td>0.000000e+00</td>\n",
       "      <td>0.000000</td>\n",
       "      <td>1.000000</td>\n",
       "      <td>0.000000e+00</td>\n",
       "      <td>2009-01-09 02:54:25</td>\n",
       "    </tr>\n",
       "    <tr>\n",
       "      <th>25%</th>\n",
       "      <td>200054.250000</td>\n",
       "      <td>1.348345e+12</td>\n",
       "      <td>3.269500e+04</td>\n",
       "      <td>66.000000</td>\n",
       "      <td>2.864141e+06</td>\n",
       "      <td>1.000000e+00</td>\n",
       "      <td>1.000000e+01</td>\n",
       "      <td>1.900000e+06</td>\n",
       "      <td>0.000000</td>\n",
       "      <td>2.240000e+02</td>\n",
       "      <td>149.000000</td>\n",
       "      <td>163.000000</td>\n",
       "      <td>8.241160e+10</td>\n",
       "      <td>2012-09-22 20:18:48.500000</td>\n",
       "    </tr>\n",
       "    <tr>\n",
       "      <th>50%</th>\n",
       "      <td>400107.500000</td>\n",
       "      <td>1.456477e+12</td>\n",
       "      <td>4.278080e+05</td>\n",
       "      <td>657.000000</td>\n",
       "      <td>1.584272e+11</td>\n",
       "      <td>1.400000e+01</td>\n",
       "      <td>2.900000e+01</td>\n",
       "      <td>1.040256e+07</td>\n",
       "      <td>1.000000</td>\n",
       "      <td>4.740000e+02</td>\n",
       "      <td>1988.000000</td>\n",
       "      <td>1784.000000</td>\n",
       "      <td>4.023121e+11</td>\n",
       "      <td>2016-02-26 08:49:54.500000</td>\n",
       "    </tr>\n",
       "    <tr>\n",
       "      <th>75%</th>\n",
       "      <td>600160.750000</td>\n",
       "      <td>1.571546e+12</td>\n",
       "      <td>1.132182e+06</td>\n",
       "      <td>2065.000000</td>\n",
       "      <td>1.275982e+13</td>\n",
       "      <td>5.100000e+01</td>\n",
       "      <td>8.300000e+01</td>\n",
       "      <td>3.161996e+07</td>\n",
       "      <td>1.000000</td>\n",
       "      <td>1.321000e+03</td>\n",
       "      <td>5343.000000</td>\n",
       "      <td>5443.000000</td>\n",
       "      <td>1.138691e+12</td>\n",
       "      <td>2019-10-20 04:30:28.750000128</td>\n",
       "    </tr>\n",
       "    <tr>\n",
       "      <th>max</th>\n",
       "      <td>800214.000000</td>\n",
       "      <td>1.690291e+12</td>\n",
       "      <td>3.978938e+06</td>\n",
       "      <td>12239.000000</td>\n",
       "      <td>5.391117e+13</td>\n",
       "      <td>1.029502e+06</td>\n",
       "      <td>1.143052e+06</td>\n",
       "      <td>2.915328e+10</td>\n",
       "      <td>56155.000000</td>\n",
       "      <td>4.933333e+07</td>\n",
       "      <td>20894.000000</td>\n",
       "      <td>23642.000000</td>\n",
       "      <td>6.499324e+14</td>\n",
       "      <td>2023-07-25 13:09:19</td>\n",
       "    </tr>\n",
       "    <tr>\n",
       "      <th>std</th>\n",
       "      <td>231002.028492</td>\n",
       "      <td>1.298065e+11</td>\n",
       "      <td>5.962720e+05</td>\n",
       "      <td>1093.286117</td>\n",
       "      <td>1.200650e+13</td>\n",
       "      <td>1.208280e+03</td>\n",
       "      <td>1.890674e+03</td>\n",
       "      <td>9.205651e+07</td>\n",
       "      <td>148.221712</td>\n",
       "      <td>8.556237e+04</td>\n",
       "      <td>2677.176250</td>\n",
       "      <td>3230.421299</td>\n",
       "      <td>3.496368e+12</td>\n",
       "      <td>NaN</td>\n",
       "    </tr>\n",
       "  </tbody>\n",
       "</table>\n",
       "</div>"
      ],
      "text/plain": [
       "              height     timestamp          size       tx_count    difficulty  \\\n",
       "count  800214.000000  8.002140e+05  8.002140e+05  800214.000000  8.002140e+05   \n",
       "mean   400107.500000  1.460066e+12  6.231263e+05    1086.861858  7.198567e+12   \n",
       "min         1.000000  1.231470e+12  1.760000e+02       1.000000  1.000000e+00   \n",
       "25%    200054.250000  1.348345e+12  3.269500e+04      66.000000  2.864141e+06   \n",
       "50%    400107.500000  1.456477e+12  4.278080e+05     657.000000  1.584272e+11   \n",
       "75%    600160.750000  1.571546e+12  1.132182e+06    2065.000000  1.275982e+13   \n",
       "max    800214.000000  1.690291e+12  3.978938e+06   12239.000000  5.391117e+13   \n",
       "std    231002.028492  1.298065e+11  5.962720e+05    1093.286117  1.200650e+13   \n",
       "\n",
       "       median_fee_rate  avg_fee_rate    total_fees  fee_range_min  \\\n",
       "count     8.002140e+05  8.002140e+05  8.002140e+05  800214.000000   \n",
       "mean      5.525847e+01  9.379183e+01  3.359235e+07       9.384931   \n",
       "min       0.000000e+00  0.000000e+00  0.000000e+00       0.000000   \n",
       "25%       1.000000e+00  1.000000e+01  1.900000e+06       0.000000   \n",
       "50%       1.400000e+01  2.900000e+01  1.040256e+07       1.000000   \n",
       "75%       5.100000e+01  8.300000e+01  3.161996e+07       1.000000   \n",
       "max       1.029502e+06  1.143052e+06  2.915328e+10   56155.000000   \n",
       "std       1.208280e+03  1.890674e+03  9.205651e+07     148.221712   \n",
       "\n",
       "       fee_range_max    input_count   output_count  output_amount  \\\n",
       "count   8.002140e+05  800214.000000  800214.000000   8.002140e+05   \n",
       "mean    2.160209e+03    2847.751623    3053.467912   1.047352e+12   \n",
       "min     0.000000e+00       0.000000       1.000000   0.000000e+00   \n",
       "25%     2.240000e+02     149.000000     163.000000   8.241160e+10   \n",
       "50%     4.740000e+02    1988.000000    1784.000000   4.023121e+11   \n",
       "75%     1.321000e+03    5343.000000    5443.000000   1.138691e+12   \n",
       "max     4.933333e+07   20894.000000   23642.000000   6.499324e+14   \n",
       "std     8.556237e+04    2677.176250    3230.421299   3.496368e+12   \n",
       "\n",
       "                            datetime  \n",
       "count                         800214  \n",
       "mean   2016-04-07 21:59:54.793928960  \n",
       "min              2009-01-09 02:54:25  \n",
       "25%       2012-09-22 20:18:48.500000  \n",
       "50%       2016-02-26 08:49:54.500000  \n",
       "75%    2019-10-20 04:30:28.750000128  \n",
       "max              2023-07-25 13:09:19  \n",
       "std                              NaN  "
      ]
     },
     "execution_count": 5,
     "metadata": {},
     "output_type": "execute_result"
    }
   ],
   "source": [
    "hist_data.describe()"
   ]
  },
  {
   "cell_type": "markdown",
   "metadata": {},
   "source": [
    "### Visualise"
   ]
  },
  {
   "cell_type": "code",
   "execution_count": 6,
   "metadata": {},
   "outputs": [],
   "source": [
    "import matplotlib.pyplot as plt\n",
    "from typing import Union, List, Any, Dict\n",
    "def plot(x: Union[List[Any], pd.Series], y: Union[List[Any], pd.Series], ylabel: str, title: Union[str, None] = None):\n",
    "    fig = plt.figure(figsize=(8, 4))\n",
    "    plt.plot(x, y)\n",
    "    plt.ylabel(ylabel)\n",
    "    plt.xticks( rotation=25 )\n",
    "    plt.title(title if title is not None else \"\")\n",
    "    plt.show()"
   ]
  },
  {
   "cell_type": "markdown",
   "metadata": {},
   "source": [
    "### Height\n",
    "The height stands for the number of blocks that have been confirmed in the Bitcoin Blockchain. When creating this notebook, the height of the Bitcoin network was at #800213."
   ]
  },
  {
   "cell_type": "code",
   "execution_count": 7,
   "metadata": {},
   "outputs": [
    {
     "data": {
      "image/png": "[encoded data removed]",
      "text/plain": [
       "<Figure size 800x400 with 1 Axes>"
      ]
     },
     "metadata": {},
     "output_type": "display_data"
    }
   ],
   "source": [
    "plot(x=hist_data[\"datetime\"], y=hist_data[\"height\"], ylabel=\"Block Number\")"
   ]
  },
  {
   "cell_type": "markdown",
   "metadata": {},
   "source": [
    "### Transaction Size\n",
    "When pushing a transaction to the Bitcoin Network, its size varies depending on its contents. The average size for a simple transaction (1 input and 2 outputs) weights around ~200 bytes. Nevertheless, the only limit is the size of the block, which is ~1 megabyte. "
   ]
  },
  {
   "cell_type": "code",
   "execution_count": 8,
   "metadata": {},
   "outputs": [
    {
     "data": {
      "image/png": "[encoded data removed]",
      "text/plain": [
       "<Figure size 800x400 with 1 Axes>"
      ]
     },
     "metadata": {},
     "output_type": "display_data"
    }
   ],
   "source": [
    "plot(x=hist_data[\"datetime\"], y=hist_data[\"size\"].apply(lambda x: x / 1000), ylabel=\"Size in Kilobytes\")"
   ]
  },
  {
   "cell_type": "markdown",
   "metadata": {},
   "source": [
    "**Congratulations, now you can push your notebook to your GitHub repo. "
   ]
  }
 ],
 "metadata": {
  "kernelspec": {
   "display_name": "Python 3",
   "language": "python",
   "name": "python3"
  },
  "language_info": {
   "codemirror_mode": {
    "name": "ipython",
    "version": 3
   },
   "file_extension": ".py",
   "mimetype": "text/x-python",
   "name": "python",
   "nbconvert_exporter": "python",
   "pygments_lexer": "ipython3",
   "version": "3.12.1"
  }
 },
 "nbformat": 4,
 "nbformat_minor": 2
}
